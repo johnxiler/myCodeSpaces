{
  "nbformat": 4,
  "nbformat_minor": 0,
  "metadata": {
    "colab": {
      "provenance": [],
      "authorship_tag": "ABX9TyMY8xJE/jtyryUldKfhN1TN",
      "include_colab_link": true
    },
    "kernelspec": {
      "name": "python3",
      "display_name": "Python 3"
    },
    "language_info": {
      "name": "python"
    }
  },
  "cells": [
    {
      "cell_type": "markdown",
      "metadata": {
        "id": "view-in-github",
        "colab_type": "text"
      },
      "source": [
        "<a href=\"https://colab.research.google.com/github/johnxiler/myCodeSpaces/blob/main/chutesandladders.ipynb\" target=\"_parent\"><img src=\"https://colab.research.google.com/assets/colab-badge.svg\" alt=\"Open In Colab\"/></a>"
      ]
    },
    {
      "cell_type": "code",
      "source": [
        "from random import randint \n",
        "class SnakesAndLadders:\n",
        "    SNAKES = {\n",
        "        27 : 8,\n",
        "        34 : 7,\n",
        "        29 : 3,\n",
        "        69 : 31,\n",
        "        72 : 36,\n",
        "        77 : 46,\n",
        "        80 : 41,\n",
        "        96 : 48,\n",
        "        98 : 79,\n",
        "    }\n",
        "    LADDERS = {\n",
        "        4 : 16,\n",
        "        6 : 25,\n",
        "        12 : 49,\n",
        "        20 : 40,\n",
        "        38 : 88,\n",
        "        58 : 62,\n",
        "        71 : 93,\n",
        "        78 : 84,\n",
        "        86 : 95,\n",
        "    }\n",
        "    LAST_TILE = 100\n",
        "    def __init__(self, n_players, verbose = False):\n",
        "        self.n_players = n_players\n",
        "        self.verbose = verbose\n",
        "        self.players = [0]* n_players\n",
        "        self.turn = 0\n",
        "        self.winner = None # can use to determine if game is over\n",
        "    \n",
        "    def dice_roll(self):\n",
        "        return randint(1,6)\n",
        "    def move_player(self, players_i):\n",
        "        prev_position = self.players[players_i]\n",
        "        new_position = prev_position + self.dice_roll()\n",
        "\n",
        "        if new_position >= self.LAST_TILE: #a winner! game over\n",
        "            self.winner = players_i\n",
        "            new_position = self.LAST_TILE\n",
        "        elif new_position in self.SNAKES:\n",
        "            new_position = self.SNAKES[new_position]\n",
        "        elif new_position in self.LADDERS:\n",
        "            new_position= self.LADDERS[new_position]\n",
        "\n",
        "        self.players[players_i] = new_position\n",
        "    def move_players(self):\n",
        "      for players_i in range(self.n_players):\n",
        "        self.move_player(players_i)\n",
        "        if self.winner is not None: #done with the game\n",
        "          break\n",
        "    def play_game(self):\n",
        "      while self.winner is None:\n",
        "        self.turn += 1\n",
        "        self.move_players()\n",
        "        if self.verbose:\n",
        "          self.print_turn()\n",
        "      return f\"Player #{self.winner + 1} Wins!\"\n",
        "    def print_turn(self):\n",
        "        print(f\"Turn {self.turn}:\")\n",
        "        \n",
        "        # sort players by position\n",
        "        pos_and_player_i = [(pos, player_i) for player_i, pos in enumerate(self.players)]\n",
        "        pos_and_player_i.sort(reverse=True)\n",
        "        \n",
        "        # print players with position\n",
        "        player_pos_str = ' | '.join([f\"({player_i + 1}) {pos}\" for pos, player_i in pos_and_player_i])\n",
        "        print(player_pos_str)\n"
      ],
      "metadata": {
        "id": "ihzAzKzeQSqS"
      },
      "execution_count": 13,
      "outputs": []
    },
    {
      "cell_type": "code",
      "source": [
        "game = SnakesAndLadders(n_players = 2)"
      ],
      "metadata": {
        "id": "qvX8bSkMlFg1"
      },
      "execution_count": 24,
      "outputs": []
    },
    {
      "cell_type": "code",
      "source": [
        "game.players"
      ],
      "metadata": {
        "colab": {
          "base_uri": "https://localhost:8080/"
        },
        "id": "gt6QV8vYlIrW",
        "outputId": "ffcecc49-1519-41c2-bf42-42249fd247e5"
      },
      "execution_count": 25,
      "outputs": [
        {
          "output_type": "execute_result",
          "data": {
            "text/plain": [
              "[0, 0]"
            ]
          },
          "metadata": {},
          "execution_count": 25
        }
      ]
    },
    {
      "cell_type": "code",
      "source": [
        "game.play_game()"
      ],
      "metadata": {
        "colab": {
          "base_uri": "https://localhost:8080/",
          "height": 35
        },
        "id": "_I_9hp8MlYTe",
        "outputId": "179eb68b-be0a-49f4-ffa7-841652665f8e"
      },
      "execution_count": 26,
      "outputs": [
        {
          "output_type": "execute_result",
          "data": {
            "text/plain": [
              "'Player #1 Wins!'"
            ],
            "application/vnd.google.colaboratory.intrinsic+json": {
              "type": "string"
            }
          },
          "metadata": {},
          "execution_count": 26
        }
      ]
    }
  ]
}